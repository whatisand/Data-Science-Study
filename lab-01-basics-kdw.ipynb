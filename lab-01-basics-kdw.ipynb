{
 "cells": [
  {
   "cell_type": "code",
   "execution_count": 1,
   "metadata": {},
   "outputs": [
    {
     "data": {
      "text/plain": [
       "'0.12.0'"
      ]
     },
     "execution_count": 1,
     "metadata": {},
     "output_type": "execute_result"
    }
   ],
   "source": [
    "import tensorflow as tf\n",
    "tf.__version__"
   ]
  },
  {
   "cell_type": "code",
   "execution_count": 2,
   "metadata": {},
   "outputs": [
    {
     "name": "stdout",
     "output_type": "stream",
     "text": [
      "b'Hell, World!'\n"
     ]
    }
   ],
   "source": [
    "world = tf.constant(\"Hell, World!\")\n",
    "\n",
    "sess = tf.Session()\n",
    "\n",
    "print(sess.run(world))"
   ]
  },
  {
   "cell_type": "code",
   "execution_count": 3,
   "metadata": {},
   "outputs": [],
   "source": [
    "nd1 = tf.constant(2.0)\n",
    "nd2 = tf.constant(1.0, tf.float32)\n",
    "nd3 = tf.add(nd1, nd2)"
   ]
  },
  {
   "cell_type": "code",
   "execution_count": 4,
   "metadata": {},
   "outputs": [
    {
     "name": "stdout",
     "output_type": "stream",
     "text": [
      "node1 :  Tensor(\"Const_1:0\", shape=(), dtype=float32) node2 :  Tensor(\"Const_2:0\", shape=(), dtype=float32)\n",
      "node3 :  Tensor(\"Add:0\", shape=(), dtype=float32)\n"
     ]
    }
   ],
   "source": [
    "print(\"node1 : \", nd1, \"node2 : \", nd2)\n",
    "print(\"node3 : \", nd3)"
   ]
  },
  {
   "cell_type": "code",
   "execution_count": 5,
   "metadata": {},
   "outputs": [
    {
     "name": "stdout",
     "output_type": "stream",
     "text": [
      "sess.run(nd1, nd2) [2.0, 1.0]\n",
      "sess.run(nd3) 3.0\n"
     ]
    }
   ],
   "source": [
    "print(\"sess.run(nd1, nd2)\", sess.run([nd1, nd2]))\n",
    "print(\"sess.run(nd3)\", sess.run(nd3))"
   ]
  },
  {
   "cell_type": "code",
   "execution_count": 8,
   "metadata": {},
   "outputs": [
    {
     "name": "stdout",
     "output_type": "stream",
     "text": [
      "7.421\n",
      "[5.        6.        7.3199997]\n"
     ]
    }
   ],
   "source": [
    "a = tf.placeholder(tf.float32)\n",
    "b = tf.placeholder(tf.float32)\n",
    "adder_nd = a + b\n",
    "\n",
    "print(sess.run(adder_nd, feed_dict={a:3,b:4.421}))\n",
    "print(sess.run(adder_nd, feed_dict={a:[1,2,3.32],b:[4,]}))"
   ]
  },
  {
   "cell_type": "code",
   "execution_count": 17,
   "metadata": {},
   "outputs": [
    {
     "name": "stdout",
     "output_type": "stream",
     "text": [
      "13.2630005\n",
      "[ 33.2323   66.4646  110.33123]\n"
     ]
    }
   ],
   "source": [
    "a = tf.placeholder(tf.float32)\n",
    "b = tf.placeholder(tf.float32)\n",
    "multer_nd = a * b\n",
    "\n",
    "print(sess.run(multer_nd, feed_dict={a:3,b:4.421}))\n",
    "print(sess.run(multer_nd, feed_dict={a:[1,2,3.32],b:[33.232300341]}))"
   ]
  },
  {
   "cell_type": "code",
   "execution_count": null,
   "metadata": {},
   "outputs": [],
   "source": []
  }
 ],
 "metadata": {
  "kernelspec": {
   "display_name": "tensor_env",
   "language": "python",
   "name": "tensor_env"
  },
  "language_info": {
   "codemirror_mode": {
    "name": "ipython",
    "version": 3
   },
   "file_extension": ".py",
   "mimetype": "text/x-python",
   "name": "python",
   "nbconvert_exporter": "python",
   "pygments_lexer": "ipython3",
   "version": "3.6.4"
  }
 },
 "nbformat": 4,
 "nbformat_minor": 2
}
